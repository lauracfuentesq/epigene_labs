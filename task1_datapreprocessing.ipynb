{
  "nbformat": 4,
  "nbformat_minor": 0,
  "metadata": {
    "colab": {
      "provenance": [],
      "toc_visible": true
    },
    "kernelspec": {
      "name": "python3",
      "display_name": "Python 3"
    },
    "language_info": {
      "name": "python"
    }
  },
  "cells": [
    {
      "cell_type": "markdown",
      "source": [
        "## 1. Base dataframe"
      ],
      "metadata": {
        "id": "wGOGmr97dybK"
      }
    },
    {
      "cell_type": "code",
      "source": [
        "import os\n",
        "import pandas as pd\n",
        "import numpy as np\n",
        "from google.colab import drive\n",
        "drive.mount('/content/drive')\n",
        "\n",
        "output_directory='/content/drive/MyDrive/MASTER DATA SCIENCE/M2 internship/epigene labs challenge'\n",
        "\n",
        "data_dir='/content/drive/MyDrive/MASTER DATA SCIENCE/M2 internship/epigene labs challenge/dataset'\n",
        "\n",
        "all_paths=os.listdir(data_dir)"
      ],
      "metadata": {
        "colab": {
          "base_uri": "https://localhost:8080/"
        },
        "id": "RB4iAQQ1d2Kg",
        "outputId": "1e2c7249-26fd-492e-eab0-b9030479ca2d"
      },
      "execution_count": 260,
      "outputs": [
        {
          "output_type": "stream",
          "name": "stdout",
          "text": [
            "Drive already mounted at /content/drive; to attempt to forcibly remount, call drive.mount(\"/content/drive\", force_remount=True).\n"
          ]
        }
      ]
    },
    {
      "cell_type": "code",
      "source": [],
      "metadata": {
        "id": "QRp13bkXRZ93"
      },
      "execution_count": null,
      "outputs": []
    },
    {
      "cell_type": "code",
      "source": [
        "##============================== get columns with more variability from df 1 ====================##\n",
        "\n",
        "'''   create base dataframe with columns with more variability accross files     '''\n",
        "\n",
        "df_1=pd.read_csv(os.path.join(data_dir,all_paths[0]))\n",
        "\n",
        "variable_columns=[]\n",
        "\n",
        "for column in df_1.columns[~df_1.columns.str.contains('characteristics')]:\n",
        "\n",
        "  if df_1[column].dtype=='O' and df_1[column].nunique()>1:\n",
        "    variable_columns.append(column)\n",
        "\n",
        "  elif df_1[column].dtype=='int64' and df_1[column].std()>0:\n",
        "    variable_columns.append(column)\n",
        "\n",
        "variable_columns.remove('last_update_date')\n",
        "print('number of variable columns:', len(variable_columns))\n",
        "print(variable_columns)"
      ],
      "metadata": {
        "colab": {
          "base_uri": "https://localhost:8080/"
        },
        "id": "o6GeoQxpcsgi",
        "outputId": "a8a17bc5-3507-4df2-a36c-d6ac12fd1553"
      },
      "execution_count": 243,
      "outputs": [
        {
          "output_type": "stream",
          "name": "stdout",
          "text": [
            "number of variable columns: 5\n",
            "['description', 'geo_accession', 'source_name_ch1', 'supplementary_file', 'title']\n"
          ]
        }
      ]
    },
    {
      "cell_type": "code",
      "source": [
        "##============================== concatenate all dfs ====================##\n",
        "\n",
        "''' keep columns with more variability from df 1, and all characteristics columns '''\n",
        "\n",
        "raw_df=pd.DataFrame()\n",
        "total_rows=0\n",
        "for file in all_paths:\n",
        "\n",
        "  temp=pd.read_csv(os.path.join(data_dir,file))\n",
        "  temp['file_name']=file\n",
        "\n",
        "  total_rows+=temp.shape[0]\n",
        "  total_columns=variable_columns+list(temp.columns[temp.columns.str.contains('characteristics')])\n",
        "  total_columns.append('file_name')\n",
        "\n",
        "  raw_df=pd.concat([raw_df,temp[total_columns]])"
      ],
      "metadata": {
        "id": "4wiIKMZesUZX"
      },
      "execution_count": 244,
      "outputs": []
    },
    {
      "cell_type": "markdown",
      "source": [
        "## 2. Gender feature"
      ],
      "metadata": {
        "id": "WN7u6tisd3WT"
      }
    },
    {
      "cell_type": "code",
      "source": [
        "#======= get gender from source_name_ch1 column =============================##\n",
        "\n",
        "df=pd.DataFrame()\n",
        "df['file_name']=raw_df['file_name']\n",
        "df['source_name_ch1']=raw_df['source_name_ch1']\n",
        "\n",
        "key_words=['ovar']\n",
        "\n",
        "df['sex']=raw_df['source_name_ch1'].str.lower().str.contains('|'.join(key_words)).apply(\n",
        "    lambda x: 'female' if x else np.nan\n",
        ")"
      ],
      "metadata": {
        "id": "v-P-G1AZSsaQ"
      },
      "execution_count": 245,
      "outputs": []
    },
    {
      "cell_type": "code",
      "source": [
        "##========= get gender from  keywords search =========##\n",
        "gender_columns = [col for col in raw_df.columns if 'gender' in col.lower()]\n",
        "\n",
        "df['sex'].fillna(raw_df[gender_columns].bfill(axis=1).iloc[:, 0],inplace=True)"
      ],
      "metadata": {
        "colab": {
          "base_uri": "https://localhost:8080/"
        },
        "id": "MZQ11znEEIVI",
        "outputId": "8f2d90cf-25a2-4679-c8fd-098adcf5b242"
      },
      "execution_count": 246,
      "outputs": [
        {
          "output_type": "stream",
          "name": "stderr",
          "text": [
            "<ipython-input-246-f34fcb56a735>:4: FutureWarning: A value is trying to be set on a copy of a DataFrame or Series through chained assignment using an inplace method.\n",
            "The behavior will change in pandas 3.0. This inplace method will never work because the intermediate object on which we are setting values always behaves as a copy.\n",
            "\n",
            "For example, when doing 'df[col].method(value, inplace=True)', try using 'df.method({col: value}, inplace=True)' or df[col] = df[col].method(value) instead, to perform the operation inplace on the original object.\n",
            "\n",
            "\n",
            "  df['sex'].fillna(raw_df[gender_columns].bfill(axis=1).iloc[:, 0],inplace=True)\n"
          ]
        }
      ]
    },
    {
      "cell_type": "markdown",
      "source": [
        "## 3. Age feature"
      ],
      "metadata": {
        "id": "blEwtfmUHBVr"
      }
    },
    {
      "cell_type": "code",
      "source": [
        "def detect_columns_with_exact_word(data_dir, file_paths, list_words):\n",
        "    \"\"\"\n",
        "    Detect columns across multiple files that contain a specific word within text, or column name.\n",
        "\n",
        "    Args:\n",
        "        data_dir (str): Directory containing the files.\n",
        "        file_paths (list): List of file paths to process.\n",
        "        word (str): The word to search for within text and column names.\n",
        "\n",
        "    Returns:\n",
        "        dict: Dictionary with keys being files, and values being column names containing the word.\n",
        "    \"\"\"\n",
        "    results = []\n",
        "\n",
        "    for word in list_words:\n",
        "\n",
        "      word_pattern = rf'\\b{word}\\b'\n",
        "\n",
        "      for file in file_paths:\n",
        "        df = pd.read_csv(os.path.join(data_dir, file))\n",
        "\n",
        "        ## check column names\n",
        "        #columns=df.iloc[:,df.columns.str.lower().str.contains(word)].columns\n",
        "\n",
        "        for column in df.columns:\n",
        "          if word_pattern in column.lower() and (column not in results):\n",
        "            results.append(column)\n",
        "\n",
        "      for file in file_paths:\n",
        "        df = pd.read_csv(os.path.join(data_dir, file))\n",
        "\n",
        "        for column in df.columns:\n",
        "\n",
        "          ## check column content\n",
        "          if df[column].astype(str).str.contains(word_pattern, case=False, na=False, regex=True).any():\n",
        "              results.append(column)\n",
        "\n",
        "    return results"
      ],
      "metadata": {
        "id": "LLcDutWOEThV"
      },
      "execution_count": 247,
      "outputs": []
    },
    {
      "cell_type": "code",
      "source": [
        "columns_with_age = detect_columns_with_exact_word(data_dir, all_paths, [\"age\"])\n",
        "df['age']=raw_df[raw_df.columns.intersection(columns_with_age)].bfill(axis=1).iloc[:, 0]\n",
        "\n",
        "df['age'] = df['age'].str.extract(r'(\\d+)')  # Extract numbers\n",
        "df['age'] = pd.to_numeric(df['age'], errors='coerce')  # Convert to numeric, keeping NaNs\n",
        "df['age']=df['age'].astype('Int64')"
      ],
      "metadata": {
        "id": "h3ytDFnR8QgH"
      },
      "execution_count": 248,
      "outputs": []
    },
    {
      "cell_type": "markdown",
      "source": [
        "## 4. Cancer stage feature"
      ],
      "metadata": {
        "id": "WLi7jL8Jd54U"
      }
    },
    {
      "cell_type": "code",
      "source": [
        "##================= stage column ======================##\n",
        "columns_with_stage = detect_columns_with_exact_word(data_dir, all_paths, [\"stage\"])\n",
        "stage=raw_df[raw_df.columns.intersection(columns_with_stage)].bfill(axis=1).iloc[:, 0]\n",
        "stage=pd.DataFrame(stage)"
      ],
      "metadata": {
        "id": "7Ab48lJUEDg_"
      },
      "execution_count": 249,
      "outputs": []
    },
    {
      "cell_type": "code",
      "source": [
        "def normalize_stage(value):\n",
        "\n",
        "    if value is None:\n",
        "        return np.nan\n",
        "    value = str(value).lower()  # Convert to string and lowercase for consistency\n",
        "    if ('1' in value) or ('i' in value) or ('early' in value):\n",
        "        return 'I'\n",
        "    elif ('2' in value) or ('ii' in value):\n",
        "        return 'II'\n",
        "    elif ('3' in value) or ('iii' in value):\n",
        "        return 'III'\n",
        "    elif ('4' in value) or ('iv' in value) or ('advanced' in value):\n",
        "        return 'IV'\n",
        "    #return np.nan\n",
        "\n",
        "# Apply the normalization function to the column\n",
        "stage['normalized']=stage[stage.columns[0]].apply(normalize_stage)\n",
        "\n",
        "df['stage']=stage['normalized']"
      ],
      "metadata": {
        "id": "7m4kXWJkCyRV"
      },
      "execution_count": 250,
      "outputs": []
    },
    {
      "cell_type": "markdown",
      "source": [
        "## 5. Cancer grade feature"
      ],
      "metadata": {
        "id": "ElQE1EhWd9Wr"
      }
    },
    {
      "cell_type": "code",
      "source": [
        "##================= grade column ======================##\n",
        "columns_with_grade = detect_columns_with_exact_word(data_dir, all_paths, [\"grade\"])\n",
        "grade=raw_df[raw_df.columns.intersection(columns_with_grade)].bfill(axis=1).iloc[:, 0]\n",
        "grade=pd.DataFrame(grade)\n",
        "\n",
        "\n",
        "def normalize_grade(value):\n",
        "\n",
        "    if value is None:\n",
        "        return np.nan\n",
        "    value = str(value).lower()  # Convert to string and lowercase for consistency\n",
        "\n",
        "    if ('1' in value):\n",
        "        return 'I'\n",
        "    elif ('2' in value):\n",
        "        return 'II'\n",
        "    elif ('3' in value):\n",
        "        return 'III'\n",
        "    elif ('4' in value):\n",
        "        return 'IV'\n",
        "    return np.nan\n",
        "\n",
        "# Apply the normalization function to the column\n",
        "grade['normalized']=grade[grade.columns[0]].apply(normalize_grade)\n",
        "\n",
        "df['grade']=grade['normalized']"
      ],
      "metadata": {
        "id": "OOw-a282YCik"
      },
      "execution_count": 251,
      "outputs": []
    },
    {
      "cell_type": "markdown",
      "source": [
        "## 6. Cancer type"
      ],
      "metadata": {
        "id": "m8224o-4RiwJ"
      }
    },
    {
      "cell_type": "code",
      "source": [
        "##================= cancer_type column ======================##\n",
        "columns_with_cancer_type = detect_columns_with_exact_word(data_dir, all_paths, [\"ovar\",\"breast\"])\n",
        "cancer_type=raw_df[raw_df.columns.intersection(columns_with_cancer_type)].bfill(axis=1).iloc[:, 0]\n",
        "cancer_type=pd.DataFrame(cancer_type)\n",
        "\n",
        "df['cancer_type']=cancer_type[cancer_type.columns[0]].apply(\n",
        "    lambda x: 'ovarian' if 'ovar' in str(x).lower()\n",
        "              else 'breast' if 'breast' in str(x).lower()\n",
        "              else 'unaffected'\n",
        "                                    )"
      ],
      "metadata": {
        "id": "mg18fYaL-9li"
      },
      "execution_count": 252,
      "outputs": []
    },
    {
      "cell_type": "markdown",
      "source": [
        "## 7. Sample type"
      ],
      "metadata": {
        "id": "ICzF6_yw8wPL"
      }
    },
    {
      "cell_type": "code",
      "source": [
        "columns_with_sample_type = detect_columns_with_exact_word(data_dir, all_paths, ['type','tumor','tissue','primary','normal'])\n",
        "\n",
        "unique_types=['primary','normal']\n",
        "\n",
        "df['sample_type'] = (\n",
        "    raw_df[raw_df.columns.intersection(columns_with_sample_type)]\n",
        "    .apply(lambda row: ' '.join(row.dropna().astype(str).str.lower()), axis=1)\n",
        "    .apply(lambda x: next((kw for kw in unique_types if kw in x), np.nan))\n",
        ")\n"
      ],
      "metadata": {
        "id": "4l7KgXvA8y13"
      },
      "execution_count": 253,
      "outputs": []
    },
    {
      "cell_type": "markdown",
      "source": [
        "## 8. Cancer subtype"
      ],
      "metadata": {
        "id": "Ho046zUY8Szc"
      }
    },
    {
      "cell_type": "code",
      "source": [
        "subtype_list=[\"type\",\"tumor\",\"tissue\",\"serous\", \"endometrioid\",\n",
        "\"mucinous\", \"clear cell\", \"ductal\", \"lobular\", \"apocrine\"]\n",
        "\n",
        "columns_with_cancer_subtype = detect_columns_with_exact_word(data_dir, all_paths, subtype_list) ##type, tumor, tissue\n",
        "\n",
        "unique_subtypes=raw_df['characteristics_ch1.0.Tissue'].dropna().apply(lambda x: x.split(',')[1]).apply(lambda x: x.split(': ')[-1]).drop_duplicates().reset_index(drop=True)\n",
        "\n",
        "unique_subtypes=unique_subtypes.values\n",
        "\n",
        "df['tumor_subtype'] = (\n",
        "    raw_df[raw_df.columns.intersection(columns_with_cancer_subtype)]\n",
        "    .apply(lambda row: ' '.join(row.dropna().astype(str).str.lower()), axis=1)\n",
        "    .apply(lambda x: next((kw for kw in unique_subtypes if kw in x), np.nan))\n",
        ")\n"
      ],
      "metadata": {
        "id": "C6B1V6PXRljY"
      },
      "execution_count": 254,
      "outputs": []
    },
    {
      "cell_type": "markdown",
      "source": [
        "## Final dataframe"
      ],
      "metadata": {
        "id": "N-8QMu5ZCBoQ"
      }
    },
    {
      "cell_type": "code",
      "source": [
        "main_columns=['sex', 'age', 'stage', 'grade','cancer_type', 'tumor_subtype', 'sample_type']\n",
        "df=df[main_columns]\n",
        "\n",
        "# Add a temporary column to count NaN values in each row\n",
        "df['nan_count'] = df.isna().sum(axis=1)\n",
        "\n",
        "# Sort the DataFrame by the `nan_count` column in ascending order\n",
        "df = df.sort_values(by='nan_count', ascending=True).drop(columns=['nan_count'])\n",
        "\n",
        "# Reset the index for cleaner output (optional)\n",
        "df.reset_index(drop=True, inplace=True)\n",
        "\n",
        "# Step 1: Identify the first occurrence of each unique combination\n",
        "df['is_first_occurrence'] = ~df.duplicated(subset=main_columns, keep='first')\n",
        "\n",
        "# Step 2: Create sequential IDs for the first occurrences only\n",
        "id_counter = iter(range(1, df['is_first_occurrence'].sum() + 1))\n",
        "df['patient_id'] = df['is_first_occurrence'].apply(lambda x: next(id_counter) if x else np.nan)\n",
        "\n",
        "# Step 3: Drop the helper column (optional)\n",
        "df = df.drop(columns=['is_first_occurrence'])\n",
        "\n",
        "df=df[['patient_id','sex', 'age', 'stage', 'grade','cancer_type', 'tumor_subtype', 'sample_type']]\n",
        "\n",
        "df.sort_values(by='patient_id')"
      ],
      "metadata": {
        "id": "seJscUin9uHl",
        "colab": {
          "base_uri": "https://localhost:8080/",
          "height": 424
        },
        "outputId": "016df8c2-c879-448a-9fa0-844e83a95402"
      },
      "execution_count": 258,
      "outputs": [
        {
          "output_type": "execute_result",
          "data": {
            "text/plain": [
              "      patient_id     sex   age stage grade cancer_type tumor_subtype  \\\n",
              "0            1.0  female    54     I   NaN     ovarian        serous   \n",
              "1            2.0  female    70     I   NaN     ovarian        serous   \n",
              "2            3.0  female    51     I   NaN     ovarian        serous   \n",
              "3            4.0  female    68     I   NaN     ovarian        serous   \n",
              "4            5.0  female    62     I   NaN     ovarian        serous   \n",
              "...          ...     ...   ...   ...   ...         ...           ...   \n",
              "1063         NaN     NaN  <NA>  None   NaN      breast           NaN   \n",
              "1064         NaN     NaN  <NA>  None   NaN      breast           NaN   \n",
              "1065         NaN     NaN  <NA>  None   NaN      breast           NaN   \n",
              "1066         NaN     NaN  <NA>  None   NaN      breast           NaN   \n",
              "1067         NaN     NaN  <NA>  None   NaN      breast           NaN   \n",
              "\n",
              "     sample_type  \n",
              "0            NaN  \n",
              "1            NaN  \n",
              "2            NaN  \n",
              "3            NaN  \n",
              "4            NaN  \n",
              "...          ...  \n",
              "1063         NaN  \n",
              "1064         NaN  \n",
              "1065         NaN  \n",
              "1066         NaN  \n",
              "1067         NaN  \n",
              "\n",
              "[1068 rows x 8 columns]"
            ],
            "text/html": [
              "\n",
              "  <div id=\"df-3a081b2e-cfdf-4daa-b293-7dfc24e26e97\" class=\"colab-df-container\">\n",
              "    <div>\n",
              "<style scoped>\n",
              "    .dataframe tbody tr th:only-of-type {\n",
              "        vertical-align: middle;\n",
              "    }\n",
              "\n",
              "    .dataframe tbody tr th {\n",
              "        vertical-align: top;\n",
              "    }\n",
              "\n",
              "    .dataframe thead th {\n",
              "        text-align: right;\n",
              "    }\n",
              "</style>\n",
              "<table border=\"1\" class=\"dataframe\">\n",
              "  <thead>\n",
              "    <tr style=\"text-align: right;\">\n",
              "      <th></th>\n",
              "      <th>patient_id</th>\n",
              "      <th>sex</th>\n",
              "      <th>age</th>\n",
              "      <th>stage</th>\n",
              "      <th>grade</th>\n",
              "      <th>cancer_type</th>\n",
              "      <th>tumor_subtype</th>\n",
              "      <th>sample_type</th>\n",
              "    </tr>\n",
              "  </thead>\n",
              "  <tbody>\n",
              "    <tr>\n",
              "      <th>0</th>\n",
              "      <td>1.0</td>\n",
              "      <td>female</td>\n",
              "      <td>54</td>\n",
              "      <td>I</td>\n",
              "      <td>NaN</td>\n",
              "      <td>ovarian</td>\n",
              "      <td>serous</td>\n",
              "      <td>NaN</td>\n",
              "    </tr>\n",
              "    <tr>\n",
              "      <th>1</th>\n",
              "      <td>2.0</td>\n",
              "      <td>female</td>\n",
              "      <td>70</td>\n",
              "      <td>I</td>\n",
              "      <td>NaN</td>\n",
              "      <td>ovarian</td>\n",
              "      <td>serous</td>\n",
              "      <td>NaN</td>\n",
              "    </tr>\n",
              "    <tr>\n",
              "      <th>2</th>\n",
              "      <td>3.0</td>\n",
              "      <td>female</td>\n",
              "      <td>51</td>\n",
              "      <td>I</td>\n",
              "      <td>NaN</td>\n",
              "      <td>ovarian</td>\n",
              "      <td>serous</td>\n",
              "      <td>NaN</td>\n",
              "    </tr>\n",
              "    <tr>\n",
              "      <th>3</th>\n",
              "      <td>4.0</td>\n",
              "      <td>female</td>\n",
              "      <td>68</td>\n",
              "      <td>I</td>\n",
              "      <td>NaN</td>\n",
              "      <td>ovarian</td>\n",
              "      <td>serous</td>\n",
              "      <td>NaN</td>\n",
              "    </tr>\n",
              "    <tr>\n",
              "      <th>4</th>\n",
              "      <td>5.0</td>\n",
              "      <td>female</td>\n",
              "      <td>62</td>\n",
              "      <td>I</td>\n",
              "      <td>NaN</td>\n",
              "      <td>ovarian</td>\n",
              "      <td>serous</td>\n",
              "      <td>NaN</td>\n",
              "    </tr>\n",
              "    <tr>\n",
              "      <th>...</th>\n",
              "      <td>...</td>\n",
              "      <td>...</td>\n",
              "      <td>...</td>\n",
              "      <td>...</td>\n",
              "      <td>...</td>\n",
              "      <td>...</td>\n",
              "      <td>...</td>\n",
              "      <td>...</td>\n",
              "    </tr>\n",
              "    <tr>\n",
              "      <th>1063</th>\n",
              "      <td>NaN</td>\n",
              "      <td>NaN</td>\n",
              "      <td>&lt;NA&gt;</td>\n",
              "      <td>None</td>\n",
              "      <td>NaN</td>\n",
              "      <td>breast</td>\n",
              "      <td>NaN</td>\n",
              "      <td>NaN</td>\n",
              "    </tr>\n",
              "    <tr>\n",
              "      <th>1064</th>\n",
              "      <td>NaN</td>\n",
              "      <td>NaN</td>\n",
              "      <td>&lt;NA&gt;</td>\n",
              "      <td>None</td>\n",
              "      <td>NaN</td>\n",
              "      <td>breast</td>\n",
              "      <td>NaN</td>\n",
              "      <td>NaN</td>\n",
              "    </tr>\n",
              "    <tr>\n",
              "      <th>1065</th>\n",
              "      <td>NaN</td>\n",
              "      <td>NaN</td>\n",
              "      <td>&lt;NA&gt;</td>\n",
              "      <td>None</td>\n",
              "      <td>NaN</td>\n",
              "      <td>breast</td>\n",
              "      <td>NaN</td>\n",
              "      <td>NaN</td>\n",
              "    </tr>\n",
              "    <tr>\n",
              "      <th>1066</th>\n",
              "      <td>NaN</td>\n",
              "      <td>NaN</td>\n",
              "      <td>&lt;NA&gt;</td>\n",
              "      <td>None</td>\n",
              "      <td>NaN</td>\n",
              "      <td>breast</td>\n",
              "      <td>NaN</td>\n",
              "      <td>NaN</td>\n",
              "    </tr>\n",
              "    <tr>\n",
              "      <th>1067</th>\n",
              "      <td>NaN</td>\n",
              "      <td>NaN</td>\n",
              "      <td>&lt;NA&gt;</td>\n",
              "      <td>None</td>\n",
              "      <td>NaN</td>\n",
              "      <td>breast</td>\n",
              "      <td>NaN</td>\n",
              "      <td>NaN</td>\n",
              "    </tr>\n",
              "  </tbody>\n",
              "</table>\n",
              "<p>1068 rows × 8 columns</p>\n",
              "</div>\n",
              "    <div class=\"colab-df-buttons\">\n",
              "\n",
              "  <div class=\"colab-df-container\">\n",
              "    <button class=\"colab-df-convert\" onclick=\"convertToInteractive('df-3a081b2e-cfdf-4daa-b293-7dfc24e26e97')\"\n",
              "            title=\"Convert this dataframe to an interactive table.\"\n",
              "            style=\"display:none;\">\n",
              "\n",
              "  <svg xmlns=\"http://www.w3.org/2000/svg\" height=\"24px\" viewBox=\"0 -960 960 960\">\n",
              "    <path d=\"M120-120v-720h720v720H120Zm60-500h600v-160H180v160Zm220 220h160v-160H400v160Zm0 220h160v-160H400v160ZM180-400h160v-160H180v160Zm440 0h160v-160H620v160ZM180-180h160v-160H180v160Zm440 0h160v-160H620v160Z\"/>\n",
              "  </svg>\n",
              "    </button>\n",
              "\n",
              "  <style>\n",
              "    .colab-df-container {\n",
              "      display:flex;\n",
              "      gap: 12px;\n",
              "    }\n",
              "\n",
              "    .colab-df-convert {\n",
              "      background-color: #E8F0FE;\n",
              "      border: none;\n",
              "      border-radius: 50%;\n",
              "      cursor: pointer;\n",
              "      display: none;\n",
              "      fill: #1967D2;\n",
              "      height: 32px;\n",
              "      padding: 0 0 0 0;\n",
              "      width: 32px;\n",
              "    }\n",
              "\n",
              "    .colab-df-convert:hover {\n",
              "      background-color: #E2EBFA;\n",
              "      box-shadow: 0px 1px 2px rgba(60, 64, 67, 0.3), 0px 1px 3px 1px rgba(60, 64, 67, 0.15);\n",
              "      fill: #174EA6;\n",
              "    }\n",
              "\n",
              "    .colab-df-buttons div {\n",
              "      margin-bottom: 4px;\n",
              "    }\n",
              "\n",
              "    [theme=dark] .colab-df-convert {\n",
              "      background-color: #3B4455;\n",
              "      fill: #D2E3FC;\n",
              "    }\n",
              "\n",
              "    [theme=dark] .colab-df-convert:hover {\n",
              "      background-color: #434B5C;\n",
              "      box-shadow: 0px 1px 3px 1px rgba(0, 0, 0, 0.15);\n",
              "      filter: drop-shadow(0px 1px 2px rgba(0, 0, 0, 0.3));\n",
              "      fill: #FFFFFF;\n",
              "    }\n",
              "  </style>\n",
              "\n",
              "    <script>\n",
              "      const buttonEl =\n",
              "        document.querySelector('#df-3a081b2e-cfdf-4daa-b293-7dfc24e26e97 button.colab-df-convert');\n",
              "      buttonEl.style.display =\n",
              "        google.colab.kernel.accessAllowed ? 'block' : 'none';\n",
              "\n",
              "      async function convertToInteractive(key) {\n",
              "        const element = document.querySelector('#df-3a081b2e-cfdf-4daa-b293-7dfc24e26e97');\n",
              "        const dataTable =\n",
              "          await google.colab.kernel.invokeFunction('convertToInteractive',\n",
              "                                                    [key], {});\n",
              "        if (!dataTable) return;\n",
              "\n",
              "        const docLinkHtml = 'Like what you see? Visit the ' +\n",
              "          '<a target=\"_blank\" href=https://colab.research.google.com/notebooks/data_table.ipynb>data table notebook</a>'\n",
              "          + ' to learn more about interactive tables.';\n",
              "        element.innerHTML = '';\n",
              "        dataTable['output_type'] = 'display_data';\n",
              "        await google.colab.output.renderOutput(dataTable, element);\n",
              "        const docLink = document.createElement('div');\n",
              "        docLink.innerHTML = docLinkHtml;\n",
              "        element.appendChild(docLink);\n",
              "      }\n",
              "    </script>\n",
              "  </div>\n",
              "\n",
              "\n",
              "<div id=\"df-de2ca6a5-a21d-42c4-9b65-90daa96a8684\">\n",
              "  <button class=\"colab-df-quickchart\" onclick=\"quickchart('df-de2ca6a5-a21d-42c4-9b65-90daa96a8684')\"\n",
              "            title=\"Suggest charts\"\n",
              "            style=\"display:none;\">\n",
              "\n",
              "<svg xmlns=\"http://www.w3.org/2000/svg\" height=\"24px\"viewBox=\"0 0 24 24\"\n",
              "     width=\"24px\">\n",
              "    <g>\n",
              "        <path d=\"M19 3H5c-1.1 0-2 .9-2 2v14c0 1.1.9 2 2 2h14c1.1 0 2-.9 2-2V5c0-1.1-.9-2-2-2zM9 17H7v-7h2v7zm4 0h-2V7h2v10zm4 0h-2v-4h2v4z\"/>\n",
              "    </g>\n",
              "</svg>\n",
              "  </button>\n",
              "\n",
              "<style>\n",
              "  .colab-df-quickchart {\n",
              "      --bg-color: #E8F0FE;\n",
              "      --fill-color: #1967D2;\n",
              "      --hover-bg-color: #E2EBFA;\n",
              "      --hover-fill-color: #174EA6;\n",
              "      --disabled-fill-color: #AAA;\n",
              "      --disabled-bg-color: #DDD;\n",
              "  }\n",
              "\n",
              "  [theme=dark] .colab-df-quickchart {\n",
              "      --bg-color: #3B4455;\n",
              "      --fill-color: #D2E3FC;\n",
              "      --hover-bg-color: #434B5C;\n",
              "      --hover-fill-color: #FFFFFF;\n",
              "      --disabled-bg-color: #3B4455;\n",
              "      --disabled-fill-color: #666;\n",
              "  }\n",
              "\n",
              "  .colab-df-quickchart {\n",
              "    background-color: var(--bg-color);\n",
              "    border: none;\n",
              "    border-radius: 50%;\n",
              "    cursor: pointer;\n",
              "    display: none;\n",
              "    fill: var(--fill-color);\n",
              "    height: 32px;\n",
              "    padding: 0;\n",
              "    width: 32px;\n",
              "  }\n",
              "\n",
              "  .colab-df-quickchart:hover {\n",
              "    background-color: var(--hover-bg-color);\n",
              "    box-shadow: 0 1px 2px rgba(60, 64, 67, 0.3), 0 1px 3px 1px rgba(60, 64, 67, 0.15);\n",
              "    fill: var(--button-hover-fill-color);\n",
              "  }\n",
              "\n",
              "  .colab-df-quickchart-complete:disabled,\n",
              "  .colab-df-quickchart-complete:disabled:hover {\n",
              "    background-color: var(--disabled-bg-color);\n",
              "    fill: var(--disabled-fill-color);\n",
              "    box-shadow: none;\n",
              "  }\n",
              "\n",
              "  .colab-df-spinner {\n",
              "    border: 2px solid var(--fill-color);\n",
              "    border-color: transparent;\n",
              "    border-bottom-color: var(--fill-color);\n",
              "    animation:\n",
              "      spin 1s steps(1) infinite;\n",
              "  }\n",
              "\n",
              "  @keyframes spin {\n",
              "    0% {\n",
              "      border-color: transparent;\n",
              "      border-bottom-color: var(--fill-color);\n",
              "      border-left-color: var(--fill-color);\n",
              "    }\n",
              "    20% {\n",
              "      border-color: transparent;\n",
              "      border-left-color: var(--fill-color);\n",
              "      border-top-color: var(--fill-color);\n",
              "    }\n",
              "    30% {\n",
              "      border-color: transparent;\n",
              "      border-left-color: var(--fill-color);\n",
              "      border-top-color: var(--fill-color);\n",
              "      border-right-color: var(--fill-color);\n",
              "    }\n",
              "    40% {\n",
              "      border-color: transparent;\n",
              "      border-right-color: var(--fill-color);\n",
              "      border-top-color: var(--fill-color);\n",
              "    }\n",
              "    60% {\n",
              "      border-color: transparent;\n",
              "      border-right-color: var(--fill-color);\n",
              "    }\n",
              "    80% {\n",
              "      border-color: transparent;\n",
              "      border-right-color: var(--fill-color);\n",
              "      border-bottom-color: var(--fill-color);\n",
              "    }\n",
              "    90% {\n",
              "      border-color: transparent;\n",
              "      border-bottom-color: var(--fill-color);\n",
              "    }\n",
              "  }\n",
              "</style>\n",
              "\n",
              "  <script>\n",
              "    async function quickchart(key) {\n",
              "      const quickchartButtonEl =\n",
              "        document.querySelector('#' + key + ' button');\n",
              "      quickchartButtonEl.disabled = true;  // To prevent multiple clicks.\n",
              "      quickchartButtonEl.classList.add('colab-df-spinner');\n",
              "      try {\n",
              "        const charts = await google.colab.kernel.invokeFunction(\n",
              "            'suggestCharts', [key], {});\n",
              "      } catch (error) {\n",
              "        console.error('Error during call to suggestCharts:', error);\n",
              "      }\n",
              "      quickchartButtonEl.classList.remove('colab-df-spinner');\n",
              "      quickchartButtonEl.classList.add('colab-df-quickchart-complete');\n",
              "    }\n",
              "    (() => {\n",
              "      let quickchartButtonEl =\n",
              "        document.querySelector('#df-de2ca6a5-a21d-42c4-9b65-90daa96a8684 button');\n",
              "      quickchartButtonEl.style.display =\n",
              "        google.colab.kernel.accessAllowed ? 'block' : 'none';\n",
              "    })();\n",
              "  </script>\n",
              "</div>\n",
              "\n",
              "    </div>\n",
              "  </div>\n"
            ],
            "application/vnd.google.colaboratory.intrinsic+json": {
              "type": "dataframe",
              "summary": "{\n  \"name\": \"df\",\n  \"rows\": 1068,\n  \"fields\": [\n    {\n      \"column\": \"patient_id\",\n      \"properties\": {\n        \"dtype\": \"number\",\n        \"std\": 21.79449471770337,\n        \"min\": 1.0,\n        \"max\": 75.0,\n        \"num_unique_values\": 75,\n        \"samples\": [\n          5.0,\n          64.0,\n          11.0\n        ],\n        \"semantic_type\": \"\",\n        \"description\": \"\"\n      }\n    },\n    {\n      \"column\": \"sex\",\n      \"properties\": {\n        \"dtype\": \"category\",\n        \"num_unique_values\": 1,\n        \"samples\": [\n          \"female\"\n        ],\n        \"semantic_type\": \"\",\n        \"description\": \"\"\n      }\n    },\n    {\n      \"column\": \"age\",\n      \"properties\": {\n        \"dtype\": \"Int64\",\n        \"num_unique_values\": 33,\n        \"samples\": [\n          72\n        ],\n        \"semantic_type\": \"\",\n        \"description\": \"\"\n      }\n    },\n    {\n      \"column\": \"stage\",\n      \"properties\": {\n        \"dtype\": \"category\",\n        \"num_unique_values\": 2,\n        \"samples\": [\n          \"IV\"\n        ],\n        \"semantic_type\": \"\",\n        \"description\": \"\"\n      }\n    },\n    {\n      \"column\": \"grade\",\n      \"properties\": {\n        \"dtype\": \"category\",\n        \"num_unique_values\": 4,\n        \"samples\": [\n          \"II\"\n        ],\n        \"semantic_type\": \"\",\n        \"description\": \"\"\n      }\n    },\n    {\n      \"column\": \"cancer_type\",\n      \"properties\": {\n        \"dtype\": \"category\",\n        \"num_unique_values\": 3,\n        \"samples\": [\n          \"ovarian\"\n        ],\n        \"semantic_type\": \"\",\n        \"description\": \"\"\n      }\n    },\n    {\n      \"column\": \"tumor_subtype\",\n      \"properties\": {\n        \"dtype\": \"category\",\n        \"num_unique_values\": 6,\n        \"samples\": [\n          \"serous\"\n        ],\n        \"semantic_type\": \"\",\n        \"description\": \"\"\n      }\n    },\n    {\n      \"column\": \"sample_type\",\n      \"properties\": {\n        \"dtype\": \"category\",\n        \"num_unique_values\": 2,\n        \"samples\": [\n          \"primary\"\n        ],\n        \"semantic_type\": \"\",\n        \"description\": \"\"\n      }\n    }\n  ]\n}"
            }
          },
          "metadata": {},
          "execution_count": 258
        }
      ]
    },
    {
      "cell_type": "code",
      "source": [
        "df.info()"
      ],
      "metadata": {
        "colab": {
          "base_uri": "https://localhost:8080/"
        },
        "id": "_cMJlQ5eCJAG",
        "outputId": "aebc27af-2b88-4b24-d776-20761a07a737"
      },
      "execution_count": 259,
      "outputs": [
        {
          "output_type": "stream",
          "name": "stdout",
          "text": [
            "<class 'pandas.core.frame.DataFrame'>\n",
            "RangeIndex: 1068 entries, 0 to 1067\n",
            "Data columns (total 8 columns):\n",
            " #   Column         Non-Null Count  Dtype  \n",
            "---  ------         --------------  -----  \n",
            " 0   patient_id     75 non-null     float64\n",
            " 1   sex            479 non-null    object \n",
            " 2   age            54 non-null     Int64  \n",
            " 3   stage          959 non-null    object \n",
            " 4   grade          462 non-null    object \n",
            " 5   cancer_type    1068 non-null   object \n",
            " 6   tumor_subtype  270 non-null    object \n",
            " 7   sample_type    490 non-null    object \n",
            "dtypes: Int64(1), float64(1), object(6)\n",
            "memory usage: 67.9+ KB\n"
          ]
        }
      ]
    },
    {
      "cell_type": "code",
      "source": [
        "df.to_csv(f'{output_directory}clinical_meta_data.csv',index=False)"
      ],
      "metadata": {
        "id": "F5nAOnx8RQR4"
      },
      "execution_count": 261,
      "outputs": []
    },
    {
      "cell_type": "code",
      "source": [],
      "metadata": {
        "id": "hQhGVdkwRk9m"
      },
      "execution_count": null,
      "outputs": []
    }
  ]
}